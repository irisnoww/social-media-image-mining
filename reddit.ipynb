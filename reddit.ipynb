{
 "cells": [
  {
   "cell_type": "code",
   "execution_count": 1,
   "metadata": {
    "collapsed": true
   },
   "outputs": [],
   "source": [
    "import praw\n",
    "import pandas as pd\n",
    "import datetime as dt"
   ]
  },
  {
   "cell_type": "code",
   "execution_count": 2,
   "metadata": {
    "collapsed": true
   },
   "outputs": [],
   "source": [
    "reddit = praw.Reddit(client_id='_rrAJrBH5LKHMQ',\\\n",
    "                    client_secret='jixom-Ehl1gsFP6EpXB8OydYZJ4',\\\n",
    "                    user_agent='reddit_virgin',\\\n",
    "                    username='xuexuexue1220',\\\n",
    "                    password='Tx022139')"
   ]
  },
  {
   "cell_type": "code",
   "execution_count": 26,
   "metadata": {
    "collapsed": true
   },
   "outputs": [],
   "source": [
    "###iterate from list\n",
    "lst = [\"bapsalescanada\", \"britishproblems\", \"Edmonton\", \"androidcirclejerk\", \"technology\", \"churning\", \"britishcolumbia\", \"virginmobile\", \"PersonalFinanceCanada\", \"windowsphone\", \"deals\", \"PickAnAndroidForMe\", \"Frugal\", \"Calgary\", \"funny\", \"phones\", \"mexico\", \"AskUK\", \"Bitcoin\", \"saskatoon\",\"toronto\", \"iPhone6\", \"tmobile\", \"ontario\", \"GalaxyS7\", \"Quebec\", \"Sprint\", \"NoContract\", \"canada\", \"OnlineBargains\", \"mintmobile\", \"AndroidQuestions\", \"apple\", \"iPhone\", \"Videos\", \"chile\"]\n",
    "df = pd.DataFrame()\n",
    "topics_dict = {\"title\":[],\\\n",
    "               \"score\":[],\\\n",
    "               \"id\":[],\"url\":[],\\\n",
    "               \"comms_num\":[],\\\n",
    "               \"created\":[],\\\n",
    "               \"body\":[]}\n",
    "\n",
    "\n"
   ]
  },
  {
   "cell_type": "code",
   "execution_count": 56,
   "metadata": {
    "collapsed": true
   },
   "outputs": [],
   "source": [
    "subreddit = reddit.subreddit(lst[30])\n",
    "keyword_subreddit = subreddit.search(\"Virgin Mobile\")\n",
    "\n",
    "for submission in keyword_subreddit:\n",
    "    topics_dict[\"title\"].append(submission.title)\n",
    "    topics_dict[\"score\"].append(submission.score)\n",
    "    topics_dict[\"id\"].append(submission.id)\n",
    "    topics_dict[\"url\"].append(submission.url)\n",
    "    topics_dict[\"comms_num\"].append(submission.num_comments)\n",
    "    topics_dict[\"created\"].append(submission.created)\n",
    "    topics_dict[\"body\"].append(submission.selftext)\n",
    "\n",
    "topics_data = pd.DataFrame(topics_dict)\n",
    "df = df.append(topics_data)\n"
   ]
  },
  {
   "cell_type": "code",
   "execution_count": 14,
   "metadata": {
    "collapsed": true
   },
   "outputs": [],
   "source": [
    "subreddit = reddit.subreddit(lst[3])\n",
    "keyword_subreddit = subreddit.search(\"Virgin Mobile\",limit=500)\n",
    "\n",
    "for submission in keyword_subreddit:\n",
    "    topics_dict[\"title\"].append(submission.title)\n",
    "    topics_dict[\"score\"].append(submission.score)\n",
    "    topics_dict[\"id\"].append(submission.id)\n",
    "    topics_dict[\"url\"].append(submission.url)\n",
    "    topics_dict[\"comms_num\"].append(submission.num_comments)\n",
    "    topics_dict[\"created\"].append(submission.created)\n",
    "    topics_dict[\"body\"].append(submission.selftext)\n",
    "\n",
    "topics_data = pd.DataFrame(topics_dict)\n",
    "df = df.append(topics_data)\n",
    "\n"
   ]
  },
  {
   "cell_type": "code",
   "execution_count": 60,
   "metadata": {
    "collapsed": true
   },
   "outputs": [],
   "source": [
    "df.to_csv(\"/Users/xuetan/Desktop/Ivey_Business Analytics/Programming/Rworkfile/engagement/reddit_test.csv\")\n",
    "\n"
   ]
  },
  {
   "cell_type": "code",
   "execution_count": 27,
   "metadata": {
    "collapsed": true
   },
   "outputs": [],
   "source": [
    "topics_dict = {\"title\":[],\\\n",
    "               \"score\":[],\\\n",
    "               \"id\":[],\"url\":[],\\\n",
    "               \"comms_num\":[],\\\n",
    "               \"created\":[],\\\n",
    "               \"body\":[]}"
   ]
  },
  {
   "cell_type": "code",
   "execution_count": 28,
   "metadata": {
    "collapsed": true
   },
   "outputs": [],
   "source": [
    "for submission in keyword_subreddit:\n",
    "    topics_dict[\"title\"].append(submission.title)\n",
    "    topics_dict[\"score\"].append(submission.score)\n",
    "    topics_dict[\"id\"].append(submission.id)\n",
    "    topics_dict[\"url\"].append(submission.url)\n",
    "    topics_dict[\"comms_num\"].append(submission.num_comments)\n",
    "    topics_dict[\"created\"].append(submission.created)\n",
    "    topics_dict[\"body\"].append(submission.selftext)\n",
    "\n",
    "topics_data = pd.DataFrame(topics_dict)"
   ]
  },
  {
   "cell_type": "code",
   "execution_count": 12,
   "metadata": {},
   "outputs": [
    {
     "data": {
      "text/html": [
       "<div>\n",
       "<style>\n",
       "    .dataframe thead tr:only-child th {\n",
       "        text-align: right;\n",
       "    }\n",
       "\n",
       "    .dataframe thead th {\n",
       "        text-align: left;\n",
       "    }\n",
       "\n",
       "    .dataframe tbody tr th {\n",
       "        vertical-align: top;\n",
       "    }\n",
       "</style>\n",
       "<table border=\"1\" class=\"dataframe\">\n",
       "  <thead>\n",
       "    <tr style=\"text-align: right;\">\n",
       "      <th></th>\n",
       "      <th>body</th>\n",
       "      <th>comms_num</th>\n",
       "      <th>created</th>\n",
       "      <th>id</th>\n",
       "      <th>score</th>\n",
       "      <th>title</th>\n",
       "      <th>url</th>\n",
       "    </tr>\n",
       "  </thead>\n",
       "  <tbody>\n",
       "    <tr>\n",
       "      <th>0</th>\n",
       "      <td>If there are any grammatical errors I apologiz...</td>\n",
       "      <td>11</td>\n",
       "      <td>1.529361e+09</td>\n",
       "      <td>8rzwuw</td>\n",
       "      <td>2</td>\n",
       "      <td>Some questions about Virgin Mobile</td>\n",
       "      <td>https://www.reddit.com/r/Sprint/comments/8rzwu...</td>\n",
       "    </tr>\n",
       "    <tr>\n",
       "      <th>1</th>\n",
       "      <td>Hopefully an easy yes/no question - I had to g...</td>\n",
       "      <td>26</td>\n",
       "      <td>1.499132e+09</td>\n",
       "      <td>6l1dkw</td>\n",
       "      <td>12</td>\n",
       "      <td>Free Year... From Virgin Mobile $1/Year</td>\n",
       "      <td>https://www.reddit.com/r/Sprint/comments/6l1dk...</td>\n",
       "    </tr>\n",
       "    <tr>\n",
       "      <th>2</th>\n",
       "      <td>So today I activated my Verizon iPhone X on th...</td>\n",
       "      <td>11</td>\n",
       "      <td>1.529502e+09</td>\n",
       "      <td>8sftta</td>\n",
       "      <td>5</td>\n",
       "      <td>Virgin Mobile Inner Circle &amp; Extended Coverage</td>\n",
       "      <td>https://www.reddit.com/r/Sprint/comments/8sftt...</td>\n",
       "    </tr>\n",
       "    <tr>\n",
       "      <th>3</th>\n",
       "      <td>So Ive been a virgin mobile user since 2008. C...</td>\n",
       "      <td>6</td>\n",
       "      <td>1.528859e+09</td>\n",
       "      <td>8qlkrx</td>\n",
       "      <td>3</td>\n",
       "      <td>Help getting into Kickstart from virgin mobile.</td>\n",
       "      <td>https://www.reddit.com/r/Sprint/comments/8qlkr...</td>\n",
       "    </tr>\n",
       "    <tr>\n",
       "      <th>4</th>\n",
       "      <td></td>\n",
       "      <td>27</td>\n",
       "      <td>1.503624e+09</td>\n",
       "      <td>6vsbqh</td>\n",
       "      <td>4</td>\n",
       "      <td>Virgin Mobile 1 Year for $1 also available now...</td>\n",
       "      <td>https://www.virginmobileusa.com/plans/bring-yo...</td>\n",
       "    </tr>\n",
       "  </tbody>\n",
       "</table>\n",
       "</div>"
      ],
      "text/plain": [
       "                                                body  comms_num       created  \\\n",
       "0  If there are any grammatical errors I apologiz...         11  1.529361e+09   \n",
       "1  Hopefully an easy yes/no question - I had to g...         26  1.499132e+09   \n",
       "2  So today I activated my Verizon iPhone X on th...         11  1.529502e+09   \n",
       "3  So Ive been a virgin mobile user since 2008. C...          6  1.528859e+09   \n",
       "4                                                            27  1.503624e+09   \n",
       "\n",
       "       id  score                                              title  \\\n",
       "0  8rzwuw      2                 Some questions about Virgin Mobile   \n",
       "1  6l1dkw     12            Free Year... From Virgin Mobile $1/Year   \n",
       "2  8sftta      5     Virgin Mobile Inner Circle & Extended Coverage   \n",
       "3  8qlkrx      3    Help getting into Kickstart from virgin mobile.   \n",
       "4  6vsbqh      4  Virgin Mobile 1 Year for $1 also available now...   \n",
       "\n",
       "                                                 url  \n",
       "0  https://www.reddit.com/r/Sprint/comments/8rzwu...  \n",
       "1  https://www.reddit.com/r/Sprint/comments/6l1dk...  \n",
       "2  https://www.reddit.com/r/Sprint/comments/8sftt...  \n",
       "3  https://www.reddit.com/r/Sprint/comments/8qlkr...  \n",
       "4  https://www.virginmobileusa.com/plans/bring-yo...  "
      ]
     },
     "execution_count": 12,
     "metadata": {},
     "output_type": "execute_result"
    }
   ],
   "source": [
    "topics_data.head()"
   ]
  },
  {
   "cell_type": "code",
   "execution_count": 58,
   "metadata": {
    "collapsed": true
   },
   "outputs": [],
   "source": [
    "####fixing the date column\n",
    "###reddit used UNIX timestamps\n",
    "def get_date(created):\n",
    "    return dt.datetime.fromtimestamp(created)\n",
    "_timestamp = df[\"created\"].apply(get_date)\n",
    "df = df.assign(timestamp = _timestamp)"
   ]
  },
  {
   "cell_type": "code",
   "execution_count": 14,
   "metadata": {},
   "outputs": [
    {
     "data": {
      "text/html": [
       "<div>\n",
       "<style>\n",
       "    .dataframe thead tr:only-child th {\n",
       "        text-align: right;\n",
       "    }\n",
       "\n",
       "    .dataframe thead th {\n",
       "        text-align: left;\n",
       "    }\n",
       "\n",
       "    .dataframe tbody tr th {\n",
       "        vertical-align: top;\n",
       "    }\n",
       "</style>\n",
       "<table border=\"1\" class=\"dataframe\">\n",
       "  <thead>\n",
       "    <tr style=\"text-align: right;\">\n",
       "      <th></th>\n",
       "      <th>body</th>\n",
       "      <th>comms_num</th>\n",
       "      <th>created</th>\n",
       "      <th>id</th>\n",
       "      <th>score</th>\n",
       "      <th>title</th>\n",
       "      <th>url</th>\n",
       "      <th>timestamp</th>\n",
       "    </tr>\n",
       "  </thead>\n",
       "  <tbody>\n",
       "    <tr>\n",
       "      <th>0</th>\n",
       "      <td>If there are any grammatical errors I apologiz...</td>\n",
       "      <td>11</td>\n",
       "      <td>1.529361e+09</td>\n",
       "      <td>8rzwuw</td>\n",
       "      <td>2</td>\n",
       "      <td>Some questions about Virgin Mobile</td>\n",
       "      <td>https://www.reddit.com/r/Sprint/comments/8rzwu...</td>\n",
       "      <td>2018-06-18 18:27:11</td>\n",
       "    </tr>\n",
       "    <tr>\n",
       "      <th>1</th>\n",
       "      <td>Hopefully an easy yes/no question - I had to g...</td>\n",
       "      <td>26</td>\n",
       "      <td>1.499132e+09</td>\n",
       "      <td>6l1dkw</td>\n",
       "      <td>12</td>\n",
       "      <td>Free Year... From Virgin Mobile $1/Year</td>\n",
       "      <td>https://www.reddit.com/r/Sprint/comments/6l1dk...</td>\n",
       "      <td>2017-07-03 21:38:58</td>\n",
       "    </tr>\n",
       "    <tr>\n",
       "      <th>2</th>\n",
       "      <td>So today I activated my Verizon iPhone X on th...</td>\n",
       "      <td>11</td>\n",
       "      <td>1.529502e+09</td>\n",
       "      <td>8sftta</td>\n",
       "      <td>5</td>\n",
       "      <td>Virgin Mobile Inner Circle &amp; Extended Coverage</td>\n",
       "      <td>https://www.reddit.com/r/Sprint/comments/8sftt...</td>\n",
       "      <td>2018-06-20 09:37:14</td>\n",
       "    </tr>\n",
       "    <tr>\n",
       "      <th>3</th>\n",
       "      <td>So Ive been a virgin mobile user since 2008. C...</td>\n",
       "      <td>6</td>\n",
       "      <td>1.528859e+09</td>\n",
       "      <td>8qlkrx</td>\n",
       "      <td>3</td>\n",
       "      <td>Help getting into Kickstart from virgin mobile.</td>\n",
       "      <td>https://www.reddit.com/r/Sprint/comments/8qlkr...</td>\n",
       "      <td>2018-06-12 22:56:22</td>\n",
       "    </tr>\n",
       "    <tr>\n",
       "      <th>4</th>\n",
       "      <td></td>\n",
       "      <td>27</td>\n",
       "      <td>1.503624e+09</td>\n",
       "      <td>6vsbqh</td>\n",
       "      <td>4</td>\n",
       "      <td>Virgin Mobile 1 Year for $1 also available now...</td>\n",
       "      <td>https://www.virginmobileusa.com/plans/bring-yo...</td>\n",
       "      <td>2017-08-24 21:16:08</td>\n",
       "    </tr>\n",
       "  </tbody>\n",
       "</table>\n",
       "</div>"
      ],
      "text/plain": [
       "                                                body  comms_num       created  \\\n",
       "0  If there are any grammatical errors I apologiz...         11  1.529361e+09   \n",
       "1  Hopefully an easy yes/no question - I had to g...         26  1.499132e+09   \n",
       "2  So today I activated my Verizon iPhone X on th...         11  1.529502e+09   \n",
       "3  So Ive been a virgin mobile user since 2008. C...          6  1.528859e+09   \n",
       "4                                                            27  1.503624e+09   \n",
       "\n",
       "       id  score                                              title  \\\n",
       "0  8rzwuw      2                 Some questions about Virgin Mobile   \n",
       "1  6l1dkw     12            Free Year... From Virgin Mobile $1/Year   \n",
       "2  8sftta      5     Virgin Mobile Inner Circle & Extended Coverage   \n",
       "3  8qlkrx      3    Help getting into Kickstart from virgin mobile.   \n",
       "4  6vsbqh      4  Virgin Mobile 1 Year for $1 also available now...   \n",
       "\n",
       "                                                 url           timestamp  \n",
       "0  https://www.reddit.com/r/Sprint/comments/8rzwu... 2018-06-18 18:27:11  \n",
       "1  https://www.reddit.com/r/Sprint/comments/6l1dk... 2017-07-03 21:38:58  \n",
       "2  https://www.reddit.com/r/Sprint/comments/8sftt... 2018-06-20 09:37:14  \n",
       "3  https://www.reddit.com/r/Sprint/comments/8qlkr... 2018-06-12 22:56:22  \n",
       "4  https://www.virginmobileusa.com/plans/bring-yo... 2017-08-24 21:16:08  "
      ]
     },
     "execution_count": 14,
     "metadata": {},
     "output_type": "execute_result"
    }
   ],
   "source": [
    "topics_data.head()"
   ]
  },
  {
   "cell_type": "code",
   "execution_count": 30,
   "metadata": {
    "collapsed": true
   },
   "outputs": [],
   "source": [
    "topics_data.to_csv(\"/Users/xuetan/Desktop/Ivey_Business Analytics/Programming/Rworkfile/engagement/reddit_fido.csv\")\n"
   ]
  },
  {
   "cell_type": "code",
   "execution_count": null,
   "metadata": {
    "collapsed": true
   },
   "outputs": [],
   "source": []
  }
 ],
 "metadata": {
  "kernelspec": {
   "display_name": "Python 3",
   "language": "python",
   "name": "python3"
  },
  "language_info": {
   "codemirror_mode": {
    "name": "ipython",
    "version": 3
   },
   "file_extension": ".py",
   "mimetype": "text/x-python",
   "name": "python",
   "nbconvert_exporter": "python",
   "pygments_lexer": "ipython3",
   "version": "3.7.4"
  }
 },
 "nbformat": 4,
 "nbformat_minor": 2
}
